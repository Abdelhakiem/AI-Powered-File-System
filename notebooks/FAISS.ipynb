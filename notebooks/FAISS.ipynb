{
  "cells": [
    {
      "cell_type": "markdown",
      "metadata": {
        "id": "sfDKiIvh_GN8"
      },
      "source": [
        "# Example:"
      ]
    },
    {
      "cell_type": "code",
      "execution_count": null,
      "metadata": {
        "id": "60S-49_86see"
      },
      "outputs": [],
      "source": [
        "docs = [\n",
        "    \"This is document 1.\",\n",
        "    \"Another example text.\",\n",
        "    \"AI-powered systems are fun.\",\n",
        "    \"FAISS is a vector search library.\",\n",
        "    \"Retrieval-Augmented Generation rocks.\"\n",
        "]\n"
      ]
    },
    {
      "cell_type": "code",
      "execution_count": null,
      "metadata": {
        "id": "iOdClDsu6u55"
      },
      "outputs": [],
      "source": [
        "import faiss\n",
        "from sentence_transformers import SentenceTransformer\n",
        "import numpy as np\n",
        "\n",
        "model = SentenceTransformer('all-MiniLM-L6-v2')\n",
        "embeddings = model.encode(docs)\n",
        "\n",
        "dimension = embeddings.shape[1]\n",
        "index = faiss.IndexFlatL2(dimension)\n",
        "\n",
        "# Add embeddings to index\n",
        "index.add(embeddings.astype('float32'))\n",
        "\n",
        "# Save a mapping from FAISS index to original documents\n",
        "index_to_doc = {i: doc for i, doc in enumerate(docs)}\n"
      ]
    },
    {
      "cell_type": "code",
      "execution_count": null,
      "metadata": {
        "id": "5e5OW0GQ7B3F"
      },
      "outputs": [],
      "source": [
        "query_embedding = model.encode([\"What is FAISS?\"]).astype('float32')\n",
        "D, I = index.search(query_embedding, k=3)\n",
        "\n",
        "print(I)\n",
        "\n",
        "\n",
        "for idx in I[0]:\n",
        "    print(index_to_doc[idx])\n"
      ]
    },
    {
      "cell_type": "markdown",
      "metadata": {
        "id": "P9vR_fcb_KN2"
      },
      "source": [
        "# For Files:"
      ]
    },
    {
      "cell_type": "code",
      "execution_count": null,
      "metadata": {
        "id": "XulD3_41_MWB"
      },
      "outputs": [],
      "source": [
        "import os\n",
        "from sentence_transformers import SentenceTransformer\n",
        "import numpy as np\n",
        "import faiss\n",
        "\n",
        "# Load model\n",
        "model = SentenceTransformer('all-MiniLM-L6-v2')\n",
        "\n",
        "# Initialize FAISS index\n",
        "dimension = 384  # MiniLM has 384 dimensions\n",
        "index = faiss.IndexFlatL2(dimension)\n",
        "\n",
        "# Metadata mapping\n",
        "index_to_metadata = {}\n",
        "\n",
        "# Loop through files\n",
        "data_dir = \"data\"\n",
        "for i, filename in enumerate(os.listdir(data_dir)):\n",
        "    if filename.endswith(\".txt\"):\n",
        "        path = os.path.join(data_dir, filename)\n",
        "        with open(path, 'r') as f:\n",
        "            content = f.read()\n",
        "\n",
        "        # Create embedding\n",
        "        embedding = model.encode(content).astype('float32')\n",
        "        index.add(np.array([embedding]))\n",
        "\n",
        "        # Save title (filename) and content\n",
        "        index_to_metadata[i] = {\"title\": filename, \"text\": content}\n"
      ]
    },
    {
      "cell_type": "code",
      "execution_count": null,
      "metadata": {
        "id": "csxhAuCB_U2g"
      },
      "outputs": [],
      "source": [
        "query = \"What is FAISS?\"\n",
        "query_embedding = model.encode([query]).astype('float32')\n",
        "\n",
        "D, I = index.search(query_embedding, k=2)\n",
        "\n",
        "for idx in I[0]:\n",
        "    meta = index_to_metadata[idx]\n",
        "    print(f\"Title: {meta['title']}\")\n",
        "    print(f\"Content: {meta['text']}\\n\")\n"
      ]
    }
  ],
  "metadata": {
    "colab": {
      "provenance": []
    },
    "kernelspec": {
      "display_name": "Python 3",
      "name": "python3"
    },
    "language_info": {
      "name": "python"
    }
  },
  "nbformat": 4,
  "nbformat_minor": 0
}
