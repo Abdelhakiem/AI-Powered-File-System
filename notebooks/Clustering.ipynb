{
 "cells": [
  {
   "cell_type": "code",
   "execution_count": 1,
   "metadata": {},
   "outputs": [],
   "source": [
    "import faiss\n",
    "import os\n",
    "import json\n",
    "from sklearn.preprocessing import normalize\n",
    "import hdbscan\n",
    "import numpy as np"
   ]
  },
  {
   "cell_type": "code",
   "execution_count": 2,
   "metadata": {},
   "outputs": [],
   "source": [
    "\n",
    "IMG_TXT_PATH = \".././models/img_to_text/\"\n",
    "SUMMARIZER_PATH = \".././models/summarizer/\"\n",
    "# Paths where you previously saved the BLIP models & processors:\n",
    "LOCAL_CAPTION_DIR = \".././models/img_caption\"\n",
    "LOCAL_RETRIEVAL_DIR    = \".././models/embedding\"\n",
    "\n",
    "FILE_STORING_PATH ='.././files_DB'\n",
    "ILE_SYSTEM_PATH  = '.././File_System_Simulation'\n",
    "VECTOR_DB_PATH = '.././vectorDB'\n",
    "INDEX_FILE = os.path.join(VECTOR_DB_PATH, \"file_index.faiss\")\n",
    "METADATA_FILE = os.path.join(VECTOR_DB_PATH, \"index_metadata.json\")\n",
    "KEYWORD_EXTRACTION_MODEL_PATH = \"../models/kword_extraction\"\n",
    "NEW_ROOT = \"../demo\""
   ]
  },
  {
   "cell_type": "code",
   "execution_count": 3,
   "metadata": {},
   "outputs": [],
   "source": [
    "from  keybert import KeyBERT\n",
    "from sentence_transformers import SentenceTransformer\n",
    "\n",
    "\n",
    "index = None\n",
    "metadata_list = []\n",
    "\n",
    "def load_or_create_vector_db():\n",
    "    global index, metadata_list\n",
    "    os.makedirs(VECTOR_DB_PATH, exist_ok=True)\n",
    "    \n",
    "    if os.path.exists(INDEX_FILE) and os.path.exists(METADATA_FILE):\n",
    "        print(\"Loading existing vector database...\")\n",
    "        try:\n",
    "            index = faiss.read_index(INDEX_FILE)\n",
    "            with open(METADATA_FILE, 'r') as f:\n",
    "                metadata_list = json.load(f)                \n",
    "            # Add consistency check\n",
    "            if index.ntotal != len(metadata_list):\n",
    "                print(f\"Warning: Index count ({index.ntotal}) doesn't match metadata count ({len(metadata_list)}). Recreating index.\")            \n",
    "            else:\n",
    "                print(f\"Loaded vector DB with {index.ntotal} entries\")\n",
    "        except Exception as e:\n",
    "            print(f\"Error loading vector DB: {e}\")\n",
    "    else:\n",
    "        print(\"Creating new vector database...\")\n",
    "    return index, metadata_list\n",
    "\n",
    "def retrieve_all_embeddings():\n",
    "    global index\n",
    "    if index.ntotal == 0:\n",
    "        return np.array([]), []\n",
    "    # Retrieve all embeddings\n",
    "    all_embeddings = index.reconstruct_n(0, index.ntotal)\n",
    "    \n",
    "    return all_embeddings\n",
    "def save_vector_db(index, metadata_list):\n",
    "    # 1) Write FAISS index\n",
    "    faiss.write_index(index, INDEX_FILE)\n",
    "\n",
    "    # 2) Dump metadata_list to JSON\n",
    "    with open(METADATA_FILE, \"w\", encoding=\"utf-8\") as f:\n",
    "        json.dump(metadata_list, f, indent=2, ensure_ascii=False)\n",
    "\n",
    "    print(f\"✅ Saved index to {INDEX_FILE} and metadata ({len(metadata_list)} entries) to {METADATA_FILE}.\")\n",
    "\n"
   ]
  },
  {
   "cell_type": "code",
   "execution_count": null,
   "metadata": {},
   "outputs": [],
   "source": [
    "import umap.umap_ as umap\n",
    "from keybert import KeyBERT\n",
    "from sentence_transformers import SentenceTransformer\n",
    "\n",
    "def restructure_file_system(metadata_list, file_system_path):\n",
    "    for meta in metadata_list:\n",
    "        src_fullpath = meta[\"storage_path\"]\n",
    "        new_relpath = meta[\"file_path\"]            # e.g. \"swimming/swimming.txt\"\n",
    "        dest_fullpath = os.path.join(file_system_path, new_relpath)\n",
    "\n",
    "        # 1) Ensure destination directory exists\n",
    "        dest_folder = os.path.dirname(dest_fullpath)\n",
    "        os.makedirs(dest_folder, exist_ok=True)\n",
    "\n",
    "        # 2) Move the file\n",
    "        if os.path.exists(src_fullpath):\n",
    "            shutil.copy2(src_fullpath, dest_fullpath)\n",
    "        else:\n",
    "            print(f\"[WARNING] Source not found: {src_fullpath}\")\n",
    "\n",
    "\n",
    "def cluster_files():\n",
    "    load_or_create_vector_db()\n",
    "    all_embeddings = retrieve_all_embeddings()\n",
    "    um = umap.UMAP(n_components=4,min_dist=0, metric='cosine',  random_state=42)\n",
    "    reduced = um.fit_transform(all_embeddings)  # shape (6, 2)\n",
    "    clusterer = hdbscan.HDBSCAN(\n",
    "        min_cluster_size=2,     # minimum cluster size\n",
    "        min_samples=1,                  # aggressive clusterin                \n",
    "        cluster_selection_method='leaf' # more fine-grained clusters\n",
    "    )\n",
    "    labels = clusterer.fit_predict(reduced)\n",
    "    # get file_names per cluster: -> groupd {cluster_number: list_file_names}\n",
    "    grouped={}\n",
    "    for i,l in enumerate(labels):\n",
    "        if l in grouped:\n",
    "            grouped[l]=grouped[l]+','+metadata_list[i]['file_name']\n",
    "        else:\n",
    "            grouped[l]=metadata_list[i]['file_name']\n",
    "    docs=np.array(list(grouped.values()))\n",
    "    local_embedding_model = SentenceTransformer(KEYWORD_EXTRACTION_MODEL_PATH)\n",
    "    # Initialize KeyBERT with the locally loaded embedding model\n",
    "    kw_model = KeyBERT(model=local_embedding_model)\n",
    "    keyphrases = kw_model.extract_keywords(docs, top_n=1,)\n",
    "    title_dict={}\n",
    "    for ky, kphrase in zip(grouped.keys(),keyphrases):\n",
    "        title_dict[ky]=kphrase[0][0]\n",
    "    for label,mt_data in zip(labels,metadata_list):\n",
    "        mt_data['file_path']=f\"{title_dict[label]}/{mt_data['file_path'].split('/')[-1]}\"\n",
    "        # Call the mover using the updated_meta from before:\n",
    "    restructure_file_system(metadata_list, NEW_ROOT)\n",
    "    save_vector_db(index, metadata_list)\n",
    "\n"
   ]
  },
  {
   "cell_type": "code",
   "execution_count": 4,
   "metadata": {},
   "outputs": [
    {
     "name": "stdout",
     "output_type": "stream",
     "text": [
      "Loading existing vector database...\n",
      "Loaded vector DB with 6 entries\n"
     ]
    },
    {
     "name": "stderr",
     "output_type": "stream",
     "text": [
      "/home/zeus/miniconda3/envs/cloudspace/lib/python3.10/site-packages/umap/umap_.py:1952: UserWarning: n_jobs value 1 overridden to 1 by setting random_state. Use no seed for parallelism.\n",
      "  warn(\n",
      "/home/zeus/miniconda3/envs/cloudspace/lib/python3.10/site-packages/umap/umap_.py:2462: UserWarning: n_neighbors is larger than the dataset size; truncating to X.shape[0] - 1\n",
      "  warn(\n"
     ]
    }
   ],
   "source": [
    "from sklearn.decomposition import PCA\n",
    "import matplotlib.pyplot as plt\n",
    "import umap.umap_ as umap\n",
    "load_or_create_vector_db()\n",
    "all_embeddings = retrieve_all_embeddings()\n",
    "um = umap.UMAP(n_components=4,min_dist=0, metric='cosine',  random_state=42)\n",
    "reduced = um.fit_transform(all_embeddings)  # shape (6, 2)"
   ]
  },
  {
   "cell_type": "code",
   "execution_count": 5,
   "metadata": {},
   "outputs": [
    {
     "data": {
      "text/plain": [
       "array([[ -4.0671787, -15.357155 ,  -8.457    ,   6.036557 ],\n",
       "       [ -4.0289536, -15.324044 ,  -7.647319 ,   6.9144893],\n",
       "       [ -3.8839467, -16.081715 ,  -7.925273 ,   5.8173084],\n",
       "       [ -3.4488456, -15.701628 ,  -7.9389677,   6.612119 ],\n",
       "       [ -4.760903 , -15.495141 ,  -8.110195 ,   6.3716593],\n",
       "       [ -4.074336 , -15.563984 ,  -7.366825 ,   5.7913136]],\n",
       "      dtype=float32)"
      ]
     },
     "execution_count": 5,
     "metadata": {},
     "output_type": "execute_result"
    }
   ],
   "source": [
    "reduced"
   ]
  },
  {
   "cell_type": "code",
   "execution_count": 6,
   "metadata": {},
   "outputs": [],
   "source": [
    "clusterer = hdbscan.HDBSCAN(\n",
    "    min_cluster_size=2,     # minimum cluster size\n",
    "    min_samples=1,                  # aggressive clusterin                \n",
    "    cluster_selection_method='leaf' # more fine-grained clusters\n",
    ")\n",
    "labels = clusterer.fit_predict(reduced)"
   ]
  },
  {
   "cell_type": "code",
   "execution_count": 7,
   "metadata": {},
   "outputs": [
    {
     "data": {
      "text/plain": [
       "array([1, 0, 2, 0, 1, 2])"
      ]
     },
     "execution_count": 7,
     "metadata": {},
     "output_type": "execute_result"
    }
   ],
   "source": [
    "labels"
   ]
  },
  {
   "cell_type": "code",
   "execution_count": 8,
   "metadata": {},
   "outputs": [],
   "source": [
    "grouped={}\n",
    "for i,l in enumerate(labels):\n",
    "    if l in grouped:\n",
    "        grouped[l]=grouped[l]+','+metadata_list[i]['file_name']\n",
    "    else:\n",
    "        grouped[l]=metadata_list[i]['file_name']"
   ]
  },
  {
   "cell_type": "code",
   "execution_count": 9,
   "metadata": {},
   "outputs": [
    {
     "data": {
      "text/plain": [
       "{1: 'swimming.txt,sea.png',\n",
       " 0: 'football.png,football.txt',\n",
       " 2: 'statistical_testing.txt,math.txt'}"
      ]
     },
     "execution_count": 9,
     "metadata": {},
     "output_type": "execute_result"
    }
   ],
   "source": [
    "grouped"
   ]
  },
  {
   "cell_type": "code",
   "execution_count": 11,
   "metadata": {},
   "outputs": [],
   "source": [
    "grouped={}\n",
    "for i,l in enumerate(labels):\n",
    "    if l in grouped:\n",
    "        grouped[l]=grouped[l]+','+metadata_list[i]['content']\n",
    "    else:\n",
    "        grouped[l]=metadata_list[i]['content']"
   ]
  },
  {
   "cell_type": "code",
   "execution_count": 12,
   "metadata": {},
   "outputs": [
    {
     "data": {
      "text/plain": [
       "{1: 'Swimming is both a recreational activity and a competitive sport that promotes fitness, endurance, and relaxation. It involves moving through water using various strokes, such as freestyle, breaststroke, backstroke, and butterfly. As a low-impact exercise, swimming is especially beneficial for rehabilitation and,a beach with waves and clouds',\n",
       " 0: \"two young boys playing soccer on a field,Football, known as soccer in some regions, is the world's most popular sport, captivating billions of fans across continents. It is a game of skill, strategy, and teamwork, where two teams compete to score goals by maneuvering the ball with their feet. From local neighborhood matches\",\n",
       " 2: 'Statistical testing is a crucial method used to analyze data and make informed conclusions about populations based on samples. It involves applying mathematical techniques to determine whether observed patterns or relationships are significant or merely due to chance. Common statistical tests, such as t-tests, chi-square tests, and,Mathematics is the foundation of logic, patterns, and problem-solving, shaping our understanding of the world. It encompasses numbers, equations, geometry, and abstract concepts that influence science, technology, and everyday life. From calculating finances to exploring the mysteries of the universe, mathematics'}"
      ]
     },
     "execution_count": 12,
     "metadata": {},
     "output_type": "execute_result"
    }
   ],
   "source": [
    "grouped"
   ]
  },
  {
   "cell_type": "code",
   "execution_count": 13,
   "metadata": {},
   "outputs": [
    {
     "data": {
      "text/plain": [
       "array(['Swimming is both a recreational activity and a competitive sport that promotes fitness, endurance, and relaxation. It involves moving through water using various strokes, such as freestyle, breaststroke, backstroke, and butterfly. As a low-impact exercise, swimming is especially beneficial for rehabilitation and,a beach with waves and clouds',\n",
       "       \"two young boys playing soccer on a field,Football, known as soccer in some regions, is the world's most popular sport, captivating billions of fans across continents. It is a game of skill, strategy, and teamwork, where two teams compete to score goals by maneuvering the ball with their feet. From local neighborhood matches\",\n",
       "       'Statistical testing is a crucial method used to analyze data and make informed conclusions about populations based on samples. It involves applying mathematical techniques to determine whether observed patterns or relationships are significant or merely due to chance. Common statistical tests, such as t-tests, chi-square tests, and,Mathematics is the foundation of logic, patterns, and problem-solving, shaping our understanding of the world. It encompasses numbers, equations, geometry, and abstract concepts that influence science, technology, and everyday life. From calculating finances to exploring the mysteries of the universe, mathematics'],\n",
       "      dtype='<U648')"
      ]
     },
     "execution_count": 13,
     "metadata": {},
     "output_type": "execute_result"
    }
   ],
   "source": [
    "docs=np.array(list(grouped.values()))\n",
    "docs\n"
   ]
  },
  {
   "cell_type": "code",
   "execution_count": 14,
   "metadata": {},
   "outputs": [],
   "source": [
    "from keybert import KeyBERT\n",
    "from sentence_transformers import SentenceTransformer\n",
    "# Load the embedding model from the local directory\n",
    "local_embedding_model = SentenceTransformer(KEYWORD_EXTRACTION_MODEL_PATH)\n",
    "# Initialize KeyBERT with the locally loaded embedding model\n",
    "kw_model = KeyBERT(model=local_embedding_model)\n"
   ]
  },
  {
   "cell_type": "code",
   "execution_count": 15,
   "metadata": {},
   "outputs": [
    {
     "data": {
      "text/plain": [
       "{1: 'swimming', 0: 'soccer', 2: 'statistical'}"
      ]
     },
     "execution_count": 15,
     "metadata": {},
     "output_type": "execute_result"
    }
   ],
   "source": [
    "keyphrases = kw_model.extract_keywords(docs, top_n=1,)\n",
    "title_dict={}\n",
    "for ky, kphrase in zip(grouped.keys(),keyphrases):\n",
    "    title_dict[ky]=kphrase[0][0]\n",
    "title_dict"
   ]
  },
  {
   "cell_type": "code",
   "execution_count": 18,
   "metadata": {},
   "outputs": [
    {
     "data": {
      "text/plain": [
       "[{'file_id': 'swimming_de18782b',\n",
       "  'file_name': 'swimming.txt',\n",
       "  'file_path': 'swimming/swimming.txt',\n",
       "  'file_type': 'text',\n",
       "  'content': 'Swimming is both a recreational activity and a competitive sport that promotes fitness, endurance, and relaxation. It involves moving through water using various strokes, such as freestyle, breaststroke, backstroke, and butterfly. As a low-impact exercise, swimming is especially beneficial for rehabilitation and',\n",
       "  'storage_path': '/teamspace/studios/this_studio/AI-Powered-File-System/src/../files_DB/swimming_de18782b.txt'},\n",
       " {'file_id': 'football_866089ce',\n",
       "  'file_name': 'football.png',\n",
       "  'file_path': 'soccer/football.png',\n",
       "  'file_type': 'image',\n",
       "  'content': 'two young boys playing soccer on a field',\n",
       "  'storage_path': '/teamspace/studios/this_studio/AI-Powered-File-System/src/../files_DB/football_866089ce.png'},\n",
       " {'file_id': 'statistical_testing_5e5a9bd1',\n",
       "  'file_name': 'statistical_testing.txt',\n",
       "  'file_path': 'statistical/statistical_testing.txt',\n",
       "  'file_type': 'text',\n",
       "  'content': 'Statistical testing is a crucial method used to analyze data and make informed conclusions about populations based on samples. It involves applying mathematical techniques to determine whether observed patterns or relationships are significant or merely due to chance. Common statistical tests, such as t-tests, chi-square tests, and',\n",
       "  'storage_path': '/teamspace/studios/this_studio/AI-Powered-File-System/src/../files_DB/statistical_testing_5e5a9bd1.txt'},\n",
       " {'file_id': 'football_c0f32165',\n",
       "  'file_name': 'football.txt',\n",
       "  'file_path': 'soccer/football.txt',\n",
       "  'file_type': 'text',\n",
       "  'content': \"Football, known as soccer in some regions, is the world's most popular sport, captivating billions of fans across continents. It is a game of skill, strategy, and teamwork, where two teams compete to score goals by maneuvering the ball with their feet. From local neighborhood matches\",\n",
       "  'storage_path': '/teamspace/studios/this_studio/AI-Powered-File-System/src/../files_DB/football_c0f32165.txt'},\n",
       " {'file_id': 'sea_c3e61248',\n",
       "  'file_name': 'sea.png',\n",
       "  'file_path': 'swimming/sea.png',\n",
       "  'file_type': 'image',\n",
       "  'content': 'a beach with waves and clouds',\n",
       "  'storage_path': '/teamspace/studios/this_studio/AI-Powered-File-System/src/../files_DB/sea_c3e61248.png'},\n",
       " {'file_id': 'math_8a30cdef',\n",
       "  'file_name': 'math.txt',\n",
       "  'file_path': 'statistical/math.txt',\n",
       "  'file_type': 'text',\n",
       "  'content': 'Mathematics is the foundation of logic, patterns, and problem-solving, shaping our understanding of the world. It encompasses numbers, equations, geometry, and abstract concepts that influence science, technology, and everyday life. From calculating finances to exploring the mysteries of the universe, mathematics',\n",
       "  'storage_path': '/teamspace/studios/this_studio/AI-Powered-File-System/src/../files_DB/math_8a30cdef.txt'}]"
      ]
     },
     "execution_count": 18,
     "metadata": {},
     "output_type": "execute_result"
    }
   ],
   "source": [
    "for label,mt_data in zip(labels,metadata_list):\n",
    "    mt_data['file_path']=f\"{title_dict[label]}/{mt_data['file_path'].split('/')[-1]}\"\n",
    "metadata_list"
   ]
  },
  {
   "cell_type": "code",
   "execution_count": 19,
   "metadata": {},
   "outputs": [
    {
     "data": {
      "text/plain": [
       "[{'file_id': 'swimming_de18782b',\n",
       "  'file_name': 'swimming.txt',\n",
       "  'file_path': 'swimming/swimming.txt',\n",
       "  'file_type': 'text',\n",
       "  'content': 'Swimming is both a recreational activity and a competitive sport that promotes fitness, endurance, and relaxation. It involves moving through water using various strokes, such as freestyle, breaststroke, backstroke, and butterfly. As a low-impact exercise, swimming is especially beneficial for rehabilitation and',\n",
       "  'storage_path': '/teamspace/studios/this_studio/AI-Powered-File-System/src/../files_DB/swimming_de18782b.txt'},\n",
       " {'file_id': 'football_866089ce',\n",
       "  'file_name': 'football.png',\n",
       "  'file_path': 'soccer/football.png',\n",
       "  'file_type': 'image',\n",
       "  'content': 'two young boys playing soccer on a field',\n",
       "  'storage_path': '/teamspace/studios/this_studio/AI-Powered-File-System/src/../files_DB/football_866089ce.png'},\n",
       " {'file_id': 'statistical_testing_5e5a9bd1',\n",
       "  'file_name': 'statistical_testing.txt',\n",
       "  'file_path': 'statistical/statistical_testing.txt',\n",
       "  'file_type': 'text',\n",
       "  'content': 'Statistical testing is a crucial method used to analyze data and make informed conclusions about populations based on samples. It involves applying mathematical techniques to determine whether observed patterns or relationships are significant or merely due to chance. Common statistical tests, such as t-tests, chi-square tests, and',\n",
       "  'storage_path': '/teamspace/studios/this_studio/AI-Powered-File-System/src/../files_DB/statistical_testing_5e5a9bd1.txt'},\n",
       " {'file_id': 'football_c0f32165',\n",
       "  'file_name': 'football.txt',\n",
       "  'file_path': 'soccer/football.txt',\n",
       "  'file_type': 'text',\n",
       "  'content': \"Football, known as soccer in some regions, is the world's most popular sport, captivating billions of fans across continents. It is a game of skill, strategy, and teamwork, where two teams compete to score goals by maneuvering the ball with their feet. From local neighborhood matches\",\n",
       "  'storage_path': '/teamspace/studios/this_studio/AI-Powered-File-System/src/../files_DB/football_c0f32165.txt'},\n",
       " {'file_id': 'sea_c3e61248',\n",
       "  'file_name': 'sea.png',\n",
       "  'file_path': 'swimming/sea.png',\n",
       "  'file_type': 'image',\n",
       "  'content': 'a beach with waves and clouds',\n",
       "  'storage_path': '/teamspace/studios/this_studio/AI-Powered-File-System/src/../files_DB/sea_c3e61248.png'},\n",
       " {'file_id': 'math_8a30cdef',\n",
       "  'file_name': 'math.txt',\n",
       "  'file_path': 'statistical/math.txt',\n",
       "  'file_type': 'text',\n",
       "  'content': 'Mathematics is the foundation of logic, patterns, and problem-solving, shaping our understanding of the world. It encompasses numbers, equations, geometry, and abstract concepts that influence science, technology, and everyday life. From calculating finances to exploring the mysteries of the universe, mathematics',\n",
       "  'storage_path': '/teamspace/studios/this_studio/AI-Powered-File-System/src/../files_DB/math_8a30cdef.txt'}]"
      ]
     },
     "execution_count": 19,
     "metadata": {},
     "output_type": "execute_result"
    }
   ],
   "source": [
    "metadata_list"
   ]
  },
  {
   "cell_type": "code",
   "execution_count": 20,
   "metadata": {},
   "outputs": [
    {
     "name": "stderr",
     "output_type": "stream",
     "text": [
      "huggingface/tokenizers: The current process just got forked, after parallelism has already been used. Disabling parallelism to avoid deadlocks...\n",
      "To disable this warning, you can either:\n",
      "\t- Avoid using `tokenizers` before the fork if possible\n",
      "\t- Explicitly set the environment variable TOKENIZERS_PARALLELISM=(true | false)\n"
     ]
    },
    {
     "name": "stdout",
     "output_type": "stream",
     "text": [
      "football_866089ce.png  math_8a30cdef.txt  statistical_testing_5e5a9bd1.txt\n",
      "football_c0f32165.txt  sea_c3e61248.png   swimming_de18782b.txt\n"
     ]
    }
   ],
   "source": [
    "!ls ../files_DB"
   ]
  },
  {
   "cell_type": "code",
   "execution_count": 23,
   "metadata": {},
   "outputs": [],
   "source": [
    "def restructure_file_system(metadata_list, file_system_path):\n",
    "    for meta in metadata_list:\n",
    "        src_fullpath = meta[\"storage_path\"]\n",
    "        new_relpath = meta[\"file_path\"]            # e.g. \"swimming/swimming.txt\"\n",
    "        dest_fullpath = os.path.join(file_system_path, new_relpath)\n",
    "\n",
    "        # 1) Ensure destination directory exists\n",
    "        dest_folder = os.path.dirname(dest_fullpath)\n",
    "        os.makedirs(dest_folder, exist_ok=True)\n",
    "\n",
    "        # 2) Move the file\n",
    "        if os.path.exists(src_fullpath):\n",
    "            shutil.move(src_fullpath, dest_fullpath)\n",
    "        else:\n",
    "            print(f\"[WARNING] Source not found: {src_fullpath}\")\n"
   ]
  },
  {
   "cell_type": "code",
   "execution_count": 24,
   "metadata": {},
   "outputs": [],
   "source": [
    "# Suppose you want your new directory root to be \"/data/clustered_files\"\n",
    "NEW_ROOT = \"../demo\"\n",
    "\n",
    "# Call the mover using the updated_meta from before:\n",
    "restructure_file_system(metadata_list, NEW_ROOT)\n"
   ]
  },
  {
   "cell_type": "code",
   "execution_count": null,
   "metadata": {},
   "outputs": [],
   "source": []
  }
 ],
 "metadata": {
  "language_info": {
   "name": "python"
  }
 },
 "nbformat": 4,
 "nbformat_minor": 2
}
