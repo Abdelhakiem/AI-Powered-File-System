{
  "nbformat": 4,
  "nbformat_minor": 0,
  "metadata": {
    "colab": {
      "provenance": [],
      "gpuType": "T4"
    },
    "kernelspec": {
      "name": "python3",
      "display_name": "Python 3"
    },
    "language_info": {
      "name": "python"
    },
    "accelerator": "GPU"
  },
  "cells": [
    {
      "cell_type": "code",
      "execution_count": 4,
      "metadata": {
        "id": "63kFp9L50im2"
      },
      "outputs": [],
      "source": [
        "from transformers import pipeline\n",
        "import os\n",
        "def summarize_text_file(model_name, file_path):\n",
        "    summarizer = pipeline(\"summarization\", model=model_name)\n",
        "    with open(file_path, \"r\", encoding=\"utf-8\") as f:\n",
        "        text = f.read()\n",
        "    summary = summarizer(text, max_length=130, min_length=30, do_sample=False)\n",
        "    print(f\"\\n Summary of {os.path.basename(file_path)}:\\n{summary[0]['summary_text']}\")\n"
      ]
    },
    {
      "cell_type": "code",
      "source": [
        "summarize_text_file(\"facebook/bart-large-cnn\", \"/content/test_text/New Text Document.txt\")"
      ],
      "metadata": {
        "colab": {
          "base_uri": "https://localhost:8080/"
        },
        "id": "QZ7N1XCt3jHr",
        "outputId": "2bbdd085-950e-41b8-eb86-fd2a1c0e33e4"
      },
      "execution_count": 7,
      "outputs": [
        {
          "output_type": "stream",
          "name": "stderr",
          "text": [
            "Device set to use cuda:0\n"
          ]
        },
        {
          "output_type": "stream",
          "name": "stdout",
          "text": [
            "\n",
            " Summary of New Text Document.txt:\n",
            "Liana Barrientos, 39, is charged with two counts of offering a false instrument for filing in the first degree. In total, she has been married 10 times, sometimes within two weeks of each other.\n"
          ]
        }
      ]
    }
  ]
}